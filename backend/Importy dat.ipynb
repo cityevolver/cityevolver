{
 "cells": [
  {
   "cell_type": "code",
   "execution_count": 199,
   "metadata": {
    "collapsed": false
   },
   "outputs": [],
   "source": [
    "import geojson\n",
    "import geopandas\n",
    "from importlib import reload\n",
    "import json\n",
    "import matplotlib.pyplot as plt\n",
    "import numpy as np\n",
    "import pandas as pd\n",
    "import urllib\n",
    "\n",
    "import db\n",
    "import realtime\n",
    "\n",
    "%matplotlib inline"
   ]
  },
  {
   "cell_type": "markdown",
   "metadata": {},
   "source": [
    "## QR kódy"
   ]
  },
  {
   "cell_type": "code",
   "execution_count": 229,
   "metadata": {
    "collapsed": false
   },
   "outputs": [
    {
     "data": {
      "image/png": "[encoded data removed]",
      "text/plain": [
       "<qrcode.image.pil.PilImage at 0x7fbe6d9a9cc0>"
      ]
     },
     "execution_count": 229,
     "metadata": {},
     "output_type": "execute_result"
    }
   ],
   "source": [
    "import qrcode\n",
    "\n",
    "qrcode.make('https://ec2-3-121-125-47.eu-central-1.compute.amazonaws.com:8080/issue?id=110')"
   ]
  },
  {
   "cell_type": "markdown",
   "metadata": {},
   "source": [
    "## Kontejnery"
   ]
  },
  {
   "cell_type": "code",
   "execution_count": 223,
   "metadata": {
    "collapsed": false
   },
   "outputs": [
    {
     "data": {
      "text/html": [
       "<div>\n",
       "<style scoped>\n",
       "    .dataframe tbody tr th:only-of-type {\n",
       "        vertical-align: middle;\n",
       "    }\n",
       "\n",
       "    .dataframe tbody tr th {\n",
       "        vertical-align: top;\n",
       "    }\n",
       "\n",
       "    .dataframe thead th {\n",
       "        text-align: right;\n",
       "    }\n",
       "</style>\n",
       "<table border=\"1\" class=\"dataframe\">\n",
       "  <thead>\n",
       "    <tr style=\"text-align: right;\">\n",
       "      <th></th>\n",
       "      <th>OBJECTID</th>\n",
       "      <th>STATIONID</th>\n",
       "      <th>TRASHTYPENAME</th>\n",
       "      <th>CLEANINGFREQUENCYCODE</th>\n",
       "      <th>CONTAINERTYPE</th>\n",
       "      <th>geometry</th>\n",
       "    </tr>\n",
       "  </thead>\n",
       "  <tbody>\n",
       "    <tr>\n",
       "      <th>0</th>\n",
       "      <td>1</td>\n",
       "      <td>1677</td>\n",
       "      <td>Nápojové kartóny</td>\n",
       "      <td>11</td>\n",
       "      <td>240 normální HV</td>\n",
       "      <td>POINT (-735085.4220238626 -1043146.044408377)</td>\n",
       "    </tr>\n",
       "    <tr>\n",
       "      <th>1</th>\n",
       "      <td>2</td>\n",
       "      <td>1677</td>\n",
       "      <td>Barevné sklo</td>\n",
       "      <td>41</td>\n",
       "      <td>1500 M 1,5 SV</td>\n",
       "      <td>POINT (-735085.4220238626 -1043146.044408377)</td>\n",
       "    </tr>\n",
       "  </tbody>\n",
       "</table>\n",
       "</div>"
      ],
      "text/plain": [
       "   OBJECTID  STATIONID     TRASHTYPENAME  CLEANINGFREQUENCYCODE  \\\n",
       "0         1       1677  Nápojové kartóny                     11   \n",
       "1         2       1677      Barevné sklo                     41   \n",
       "\n",
       "     CONTAINERTYPE                                       geometry  \n",
       "0  240 normální HV  POINT (-735085.4220238626 -1043146.044408377)  \n",
       "1    1500 M 1,5 SV  POINT (-735085.4220238626 -1043146.044408377)  "
      ]
     },
     "execution_count": 223,
     "metadata": {},
     "output_type": "execute_result"
    }
   ],
   "source": [
    "cont_filename = \"data/ZPK_O_Kont_TOitem_b.json\"\n",
    "\n",
    "data = geopandas.read_file(cont_filename)\n",
    "data[:2]"
   ]
  },
  {
   "cell_type": "code",
   "execution_count": 224,
   "metadata": {
    "collapsed": false
   },
   "outputs": [
    {
     "data": {
      "text/html": [
       "<div>\n",
       "<style scoped>\n",
       "    .dataframe tbody tr th:only-of-type {\n",
       "        vertical-align: middle;\n",
       "    }\n",
       "\n",
       "    .dataframe tbody tr th {\n",
       "        vertical-align: top;\n",
       "    }\n",
       "\n",
       "    .dataframe thead th {\n",
       "        text-align: right;\n",
       "    }\n",
       "</style>\n",
       "<table border=\"1\" class=\"dataframe\">\n",
       "  <thead>\n",
       "    <tr style=\"text-align: right;\">\n",
       "      <th></th>\n",
       "      <th>OBJECTID</th>\n",
       "      <th>STATIONID</th>\n",
       "      <th>TRASHTYPENAME</th>\n",
       "      <th>CLEANINGFREQUENCYCODE</th>\n",
       "      <th>CONTAINERTYPE</th>\n",
       "      <th>geometry</th>\n",
       "    </tr>\n",
       "  </thead>\n",
       "  <tbody>\n",
       "    <tr>\n",
       "      <th>0</th>\n",
       "      <td>1</td>\n",
       "      <td>1677</td>\n",
       "      <td>Nápojové kartóny</td>\n",
       "      <td>11</td>\n",
       "      <td>240 normální HV</td>\n",
       "      <td>POINT (14.52853198637917 50.09577084364367)</td>\n",
       "    </tr>\n",
       "    <tr>\n",
       "      <th>1</th>\n",
       "      <td>2</td>\n",
       "      <td>1677</td>\n",
       "      <td>Barevné sklo</td>\n",
       "      <td>41</td>\n",
       "      <td>1500 M 1,5 SV</td>\n",
       "      <td>POINT (14.52853198637917 50.09577084364367)</td>\n",
       "    </tr>\n",
       "  </tbody>\n",
       "</table>\n",
       "</div>"
      ],
      "text/plain": [
       "   OBJECTID  STATIONID     TRASHTYPENAME  CLEANINGFREQUENCYCODE  \\\n",
       "0         1       1677  Nápojové kartóny                     11   \n",
       "1         2       1677      Barevné sklo                     41   \n",
       "\n",
       "     CONTAINERTYPE                                     geometry  \n",
       "0  240 normální HV  POINT (14.52853198637917 50.09577084364367)  \n",
       "1    1500 M 1,5 SV  POINT (14.52853198637917 50.09577084364367)  "
      ]
     },
     "execution_count": 224,
     "metadata": {},
     "output_type": "execute_result"
    }
   ],
   "source": [
    "data.to_crs(epsg=4326, inplace=True)\n",
    "data[:2]"
   ]
  },
  {
   "cell_type": "code",
   "execution_count": 225,
   "metadata": {
    "collapsed": false
   },
   "outputs": [
    {
     "data": {
      "text/plain": [
       "<matplotlib.axes._subplots.AxesSubplot at 0x7fbe6e030080>"
      ]
     },
     "execution_count": 225,
     "metadata": {},
     "output_type": "execute_result"
    },
    {
     "data": {
      "image/png": "[encoded data removed]",
      "text/plain": [
       "<Figure size 432x288 with 1 Axes>"
      ]
     },
     "metadata": {
      "needs_background": "light"
     },
     "output_type": "display_data"
    }
   ],
   "source": [
    "data.plot()"
   ]
  },
  {
   "cell_type": "code",
   "execution_count": 226,
   "metadata": {
    "collapsed": false
   },
   "outputs": [],
   "source": [
    "def import_trash(cnt):\n",
    "    data = geopandas.read_file(cont_filename)\n",
    "    data.to_crs(epsg=4326, inplace=True)\n",
    "    for row in data.sample(n=cnt).itertuples():\n",
    "        point = row.geometry\n",
    "        issue = db.Issue.create(title=\"Stanoviště tříděného odpadu\",\n",
    "                                description=row.TRASHTYPENAME,\n",
    "                                author=\"MHMP\",\n",
    "                                issue_type=db.IssueType.COMPLAINT,\n",
    "                                geo_x=point.x, geo_y=point.y)\n",
    "        issue.add_qr()\n",
    "        db.Response.create(issue=issue.id, text=\"Kontejner je plný\", can_have_message=True)\n",
    "        db.Response.create(issue=issue.id, text=\"Okolí kontejneru je znečištěné\", can_have_message=True)\n",
    "        db.Response.create(issue=issue.id, text=\"Jiný problém\", can_have_message=True)"
   ]
  },
  {
   "cell_type": "markdown",
   "metadata": {},
   "source": [
    "## Lampy - sensory"
   ]
  },
  {
   "cell_type": "code",
   "execution_count": 202,
   "metadata": {
    "collapsed": false
   },
   "outputs": [
    {
     "data": {
      "text/html": [
       "<div>\n",
       "<style scoped>\n",
       "    .dataframe tbody tr th:only-of-type {\n",
       "        vertical-align: middle;\n",
       "    }\n",
       "\n",
       "    .dataframe tbody tr th {\n",
       "        vertical-align: top;\n",
       "    }\n",
       "\n",
       "    .dataframe thead th {\n",
       "        text-align: right;\n",
       "    }\n",
       "</style>\n",
       "<table border=\"1\" class=\"dataframe\">\n",
       "  <thead>\n",
       "    <tr style=\"text-align: right;\">\n",
       "      <th></th>\n",
       "      <th>starttimestamp</th>\n",
       "      <th>sid</th>\n",
       "      <th>geocoordinates_latitude</th>\n",
       "      <th>geocoordinates_longitude</th>\n",
       "      <th>o3</th>\n",
       "      <th>pm2p5</th>\n",
       "      <th>no2</th>\n",
       "      <th>so2</th>\n",
       "      <th>pm10</th>\n",
       "    </tr>\n",
       "  </thead>\n",
       "  <tbody>\n",
       "    <tr>\n",
       "      <th>0</th>\n",
       "      <td>2019-01-01T00:08:11.000Z</td>\n",
       "      <td>6aivodbkkk3xlwbjlkerclrnk4gtfy3x</td>\n",
       "      <td>50.092196</td>\n",
       "      <td>14.449379</td>\n",
       "      <td>3.7</td>\n",
       "      <td>NaN</td>\n",
       "      <td>22.1</td>\n",
       "      <td>14.0</td>\n",
       "      <td>NaN</td>\n",
       "    </tr>\n",
       "    <tr>\n",
       "      <th>1</th>\n",
       "      <td>2019-01-01T00:08:11.000Z</td>\n",
       "      <td>6czebgzn24hwd3vpklvuphomcfcwpqgx</td>\n",
       "      <td>50.091231</td>\n",
       "      <td>14.449178</td>\n",
       "      <td>6.3</td>\n",
       "      <td>0.6</td>\n",
       "      <td>10.0</td>\n",
       "      <td>28.8</td>\n",
       "      <td>10.2</td>\n",
       "    </tr>\n",
       "  </tbody>\n",
       "</table>\n",
       "</div>"
      ],
      "text/plain": [
       "             starttimestamp                               sid  \\\n",
       "0  2019-01-01T00:08:11.000Z  6aivodbkkk3xlwbjlkerclrnk4gtfy3x   \n",
       "1  2019-01-01T00:08:11.000Z  6czebgzn24hwd3vpklvuphomcfcwpqgx   \n",
       "\n",
       "   geocoordinates_latitude  geocoordinates_longitude   o3  pm2p5   no2   so2  \\\n",
       "0                50.092196                 14.449379  3.7    NaN  22.1  14.0   \n",
       "1                50.091231                 14.449178  6.3    0.6  10.0  28.8   \n",
       "\n",
       "   pm10  \n",
       "0   NaN  \n",
       "1  10.2  "
      ]
     },
     "execution_count": 202,
     "metadata": {},
     "output_type": "execute_result"
    }
   ],
   "source": [
    "lamps_filename = \"data/lampysensory.csv\"\n",
    "\n",
    "data = pd.read_csv(lamps_filename)\n",
    "data[:2]"
   ]
  },
  {
   "cell_type": "code",
   "execution_count": 219,
   "metadata": {
    "collapsed": false
   },
   "outputs": [],
   "source": [
    "def import_lamps():\n",
    "    data = pd.read_csv(lamps_filename)\n",
    "    for row in data[[\"geocoordinates_latitude\", \"geocoordinates_longitude\"]].drop_duplicates(keep=\"last\").itertuples():\n",
    "        issue = db.Issue.create(title=\"Lampa se senzory\",\n",
    "                                description=\"\",\n",
    "                                author=\"MHMP\",\n",
    "    # todo: realtime_data_url: https://golemio.docs.apiary.io/#introduction/mestsky-mobiliar/lampy-v-karline-(pilot)\n",
    "                                issue_type=db.IssueType.INFORMATION,\n",
    "                                geo_x=row.geocoordinates_longitude, geo_y=row.geocoordinates_latitude)\n",
    "        issue.add_qr()"
   ]
  },
  {
   "cell_type": "markdown",
   "metadata": {},
   "source": [
    "## Meteostanice"
   ]
  },
  {
   "cell_type": "code",
   "execution_count": 200,
   "metadata": {
    "collapsed": false
   },
   "outputs": [
    {
     "data": {
      "text/html": [
       "<div>\n",
       "<style scoped>\n",
       "    .dataframe tbody tr th:only-of-type {\n",
       "        vertical-align: middle;\n",
       "    }\n",
       "\n",
       "    .dataframe tbody tr th {\n",
       "        vertical-align: top;\n",
       "    }\n",
       "\n",
       "    .dataframe thead th {\n",
       "        text-align: right;\n",
       "    }\n",
       "</style>\n",
       "<table border=\"1\" class=\"dataframe\">\n",
       "  <thead>\n",
       "    <tr style=\"text-align: right;\">\n",
       "      <th></th>\n",
       "      <th>name</th>\n",
       "      <th>technology</th>\n",
       "      <th>lat</th>\n",
       "      <th>lng</th>\n",
       "    </tr>\n",
       "  </thead>\n",
       "  <tbody>\n",
       "    <tr>\n",
       "      <th>0</th>\n",
       "      <td>1-Barrandov</td>\n",
       "      <td>Boschung</td>\n",
       "      <td>50.039930</td>\n",
       "      <td>14.405042</td>\n",
       "    </tr>\n",
       "    <tr>\n",
       "      <th>1</th>\n",
       "      <td>2-Bulhar</td>\n",
       "      <td>Boschung</td>\n",
       "      <td>50.085625</td>\n",
       "      <td>14.436838</td>\n",
       "    </tr>\n",
       "  </tbody>\n",
       "</table>\n",
       "</div>"
      ],
      "text/plain": [
       "          name technology        lat        lng\n",
       "0  1-Barrandov   Boschung  50.039930  14.405042\n",
       "1     2-Bulhar   Boschung  50.085625  14.436838"
      ]
     },
     "execution_count": 200,
     "metadata": {},
     "output_type": "execute_result"
    }
   ],
   "source": [
    "meteo_filename = \"data/meteocidla.csv\"\n",
    "\n",
    "data = pd.read_csv(meteo_filename)\n",
    "data[:2]"
   ]
  },
  {
   "cell_type": "code",
   "execution_count": null,
   "metadata": {
    "collapsed": true
   },
   "outputs": [],
   "source": [
    "def import_meteo():\n",
    "    data = pd.read_csv(meteo_filename)\n",
    "    for row in data.itertuples():\n",
    "        issue = db.Issue.create(title=\"Meteostanice\","
   ]
  },
  {
   "cell_type": "code",
   "execution_count": 220,
   "metadata": {
    "collapsed": false
   },
   "outputs": [],
   "source": [
    "def import_meteo():\n",
    "    data = pd.read_csv(meteo_filename)\n",
    "    for row in data.itertuples():\n",
    "        issue = db.Issue.create(title=\"Meteostanice\",\n",
    "                                description=\"@get_current_meteodata {}\".format(row.name),\n",
    "                                author=\"TSK Praha\",\n",
    "    # todo: realtime_data_url: http://www.tsk-praha.cz/tskexport3/json/meteosensors\n",
    "                                issue_type=db.IssueType.INFORMATION,\n",
    "                                geo_x=row.lng, geo_y=row.lat)\n",
    "        issue.add_qr()"
   ]
  },
  {
   "cell_type": "code",
   "execution_count": 189,
   "metadata": {
    "collapsed": false
   },
   "outputs": [
    {
     "data": {
      "text/plain": [
       "True"
      ]
     },
     "execution_count": 189,
     "metadata": {},
     "output_type": "execute_result"
    }
   ],
   "source": [
    "#db.init()\n",
    "import_meteo()\n",
    "db.db.close()"
   ]
  },
  {
   "cell_type": "code",
   "execution_count": 146,
   "metadata": {
    "collapsed": false
   },
   "outputs": [
    {
     "data": {
      "text/html": [
       "<div>\n",
       "<style scoped>\n",
       "    .dataframe tbody tr th:only-of-type {\n",
       "        vertical-align: middle;\n",
       "    }\n",
       "\n",
       "    .dataframe tbody tr th {\n",
       "        vertical-align: top;\n",
       "    }\n",
       "\n",
       "    .dataframe thead th {\n",
       "        text-align: right;\n",
       "    }\n",
       "</style>\n",
       "<table border=\"1\" class=\"dataframe\">\n",
       "  <thead>\n",
       "    <tr style=\"text-align: right;\">\n",
       "      <th></th>\n",
       "      <th>airTemperature</th>\n",
       "      <th>alarm</th>\n",
       "      <th>devPoint</th>\n",
       "      <th>district</th>\n",
       "      <th>freezTemperature</th>\n",
       "      <th>gid</th>\n",
       "      <th>humidity</th>\n",
       "      <th>id</th>\n",
       "      <th>lastUpdated</th>\n",
       "      <th>lat</th>\n",
       "      <th>...</th>\n",
       "      <th>roadWet</th>\n",
       "      <th>sgid</th>\n",
       "      <th>spray</th>\n",
       "      <th>sprayProgram</th>\n",
       "      <th>street</th>\n",
       "      <th>tankLevel</th>\n",
       "      <th>technology</th>\n",
       "      <th>tmsAlarm</th>\n",
       "      <th>windDirection</th>\n",
       "      <th>windSpeed</th>\n",
       "    </tr>\n",
       "  </thead>\n",
       "  <tbody>\n",
       "    <tr>\n",
       "      <th>0</th>\n",
       "      <td>3.22</td>\n",
       "      <td>0</td>\n",
       "      <td>1.24</td>\n",
       "      <td>None</td>\n",
       "      <td>0.00</td>\n",
       "      <td>None</td>\n",
       "      <td>86.84</td>\n",
       "      <td>531801</td>\n",
       "      <td>1557019702000</td>\n",
       "      <td>50.039930</td>\n",
       "      <td>...</td>\n",
       "      <td>None</td>\n",
       "      <td>1</td>\n",
       "      <td>None</td>\n",
       "      <td>0.0</td>\n",
       "      <td>None</td>\n",
       "      <td>77.98</td>\n",
       "      <td>Boschung</td>\n",
       "      <td>0</td>\n",
       "      <td>205.0</td>\n",
       "      <td>0.27</td>\n",
       "    </tr>\n",
       "    <tr>\n",
       "      <th>1</th>\n",
       "      <td>2.42</td>\n",
       "      <td>0</td>\n",
       "      <td>-0.66</td>\n",
       "      <td>None</td>\n",
       "      <td>-9.13</td>\n",
       "      <td>None</td>\n",
       "      <td>80.13</td>\n",
       "      <td>531802</td>\n",
       "      <td>1557019806000</td>\n",
       "      <td>50.085625</td>\n",
       "      <td>...</td>\n",
       "      <td>None</td>\n",
       "      <td>1</td>\n",
       "      <td>None</td>\n",
       "      <td>0.0</td>\n",
       "      <td>None</td>\n",
       "      <td>81.27</td>\n",
       "      <td>Boschung</td>\n",
       "      <td>0</td>\n",
       "      <td>135.0</td>\n",
       "      <td>1.22</td>\n",
       "    </tr>\n",
       "  </tbody>\n",
       "</table>\n",
       "<p>2 rows × 27 columns</p>\n",
       "</div>"
      ],
      "text/plain": [
       "   airTemperature  alarm  devPoint district  freezTemperature   gid  humidity  \\\n",
       "0            3.22      0      1.24     None              0.00  None     86.84   \n",
       "1            2.42      0     -0.66     None             -9.13  None     80.13   \n",
       "\n",
       "       id    lastUpdated        lat  ...  roadWet sgid spray  sprayProgram  \\\n",
       "0  531801  1557019702000  50.039930  ...     None    1  None           0.0   \n",
       "1  531802  1557019806000  50.085625  ...     None    1  None           0.0   \n",
       "\n",
       "   street tankLevel  technology tmsAlarm  windDirection windSpeed  \n",
       "0    None     77.98    Boschung        0          205.0      0.27  \n",
       "1    None     81.27    Boschung        0          135.0      1.22  \n",
       "\n",
       "[2 rows x 27 columns]"
      ]
     },
     "execution_count": 146,
     "metadata": {},
     "output_type": "execute_result"
    }
   ],
   "source": [
    "meteo_url = \"http://www.tsk-praha.cz/tskexport3/json/meteosensors\"\n",
    "response = urllib.request.urlopen(meteo_url)\n",
    "data = pd.DataFrame.from_dict(json.loads(response.read().decode())[\"results\"])\n",
    "data[:2]"
   ]
  },
  {
   "cell_type": "code",
   "execution_count": 187,
   "metadata": {
    "collapsed": false
   },
   "outputs": [
    {
     "name": "stdout",
     "output_type": "stream",
     "text": [
      "Weather 5.5.2019 at 4:37 in Barrandov: air temperature 3 °C, humidity 88 %, wind speed 1.6 m/s.\n"
     ]
    }
   ],
   "source": [
    "realtime.get_current_meteodata(\"1-Barrandov\")"
   ]
  },
  {
   "cell_type": "markdown",
   "metadata": {},
   "source": [
    "## Vlastní import"
   ]
  },
  {
   "cell_type": "code",
   "execution_count": 230,
   "metadata": {
    "collapsed": false
   },
   "outputs": [
    {
     "data": {
      "text/plain": [
       "True"
      ]
     },
     "execution_count": 230,
     "metadata": {},
     "output_type": "execute_result"
    }
   ],
   "source": [
    "reload(db)\n",
    "\n",
    "db.init()\n",
    "import_trash(100)\n",
    "import_lamps()\n",
    "import_meteo()\n",
    "db.db.close()"
   ]
  },
  {
   "cell_type": "code",
   "execution_count": null,
   "metadata": {
    "collapsed": true
   },
   "outputs": [],
   "source": []
  }
 ],
 "metadata": {
  "kernelspec": {
   "display_name": "Python 3",
   "language": "python",
   "name": "python3"
  },
  "language_info": {
   "codemirror_mode": {
    "name": "ipython",
    "version": 3
   },
   "file_extension": ".py",
   "mimetype": "text/x-python",
   "name": "python",
   "nbconvert_exporter": "python",
   "pygments_lexer": "ipython3",
   "version": "3.5.3"
  }
 },
 "nbformat": 4,
 "nbformat_minor": 2
}
